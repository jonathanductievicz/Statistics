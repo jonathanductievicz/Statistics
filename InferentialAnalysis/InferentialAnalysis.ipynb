{
 "cells": [
  {
   "cell_type": "markdown",
   "id": "4eedc86a",
   "metadata": {},
   "source": [
    "# Análise Inferencial\n",
    "\n",
    "### Definição Simples e Clara\n",
    "- Usa uma amostra de dados para fazer afirmações ou estimativas sobre uma população maior. Por exemplo pode estimar a média populacional ou testar hipóteses (como se duas médias são diferentes) com base em amostras aleatórias. Em essência, a análise inferencial responde perguntas do tipo *o que estes dados nos dizem sobre toda a população?*, considerando incertezas estatísticas.\n",
    "\n",
    "### Aplicações Práticas\n",
    "- Pesquisa de opinião: entrevista alguns eleitores para inferir intenção de voto no país; \n",
    "- Ensaios clínicos: testar um novo medicamento em 100 pacientes para estimar seu efeito na população;\n",
    "- Controle de qualidade: examinar amostras de produtos na fábrica para decidir se toda a linha está boa;\n",
    "- A/B tests em marketing/web: testar dois anúncios em amostras de usuários para inferir qual traz mais conversão.\n",
    "Essas aplicações usam médias amostrais, intervalos de confiança e testes de hipótese para generalizar além dos dados coletados.\n",
    "\n",
    "### Exemplo Prático\n",
    "- Uma empresa de alimentos traz uma pesquisa com uma amostra de 200 consumidores para avaliar a satisfação com um novo produto. Com esses dados, ela calcula um intervalo de confiança para a proporção de clientes satisfeitos na população inteira, e faz um teste de hipótese para decidir se a satisfação é significativamente maior que 50%. Mesmo sem entrevistar todo mundo, aprende-se algo sobre o mercado amplo.\n",
    "\n",
    "### Principais Ferramentas/Técnicas\n",
    "- Testes estatísticos: t de Student, qui-quadrado, ANOVA\n",
    "- Estimativas de intervalos de confiança\n",
    "- Regressões lineares para relações entre variáveis\n",
    "- Machine learning básico: como regressão logística para inferir probabilidades\n",
    "- bibliotecas estatísticas em R: pacote stats\n",
    "- Python: ```SciPy```, ```statsmodels```\n",
    "- Softwares especializados: SPSS, SAS, STATA também são comuns para cálculos avançados de inferência.\n"
   ]
  },
  {
   "cell_type": "markdown",
   "id": "b72fc5b2",
   "metadata": {},
   "source": [
    "---"
   ]
  }
 ],
 "metadata": {
  "language_info": {
   "name": "python"
  }
 },
 "nbformat": 4,
 "nbformat_minor": 5
}

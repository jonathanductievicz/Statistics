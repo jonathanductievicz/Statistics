{
 "cells": [
  {
   "cell_type": "markdown",
   "id": "9bf33d48",
   "metadata": {},
   "source": [
    "# Análise Preditiva\n",
    "\n",
    "### Definição Simples e Clara\n",
    "- Baseia-se em estatísticas e modelos (muitas vezes de aprendizado de máquina) para prever eventos ou valores futuros com base em dados atuais e históricos​. Examina padrões passados para estimar a probabilidade de ocorrência de eventos futuros. Em resumo, analisa tendências de dados conhecidos para antecipar o que provavelmente acontecerá a seguir​.\n",
    "\n",
    "### Aplicações Práticas\n",
    "- Previsão de demanda ou vendas futuras \n",
    "- Análise de crédito: prever risco de inadimplência \n",
    "- Manutenção preditiva em indústrias: prever quando máquinas vão falhar\n",
    "- marketing preditivo: quem tem maior chance de comprar um produto\n",
    "- previsão do tempo e finanças: modelos de risco de mercado \n",
    "- Sistemas de recomendação: o que o usuário pode gostar de comprar a seguir\n",
    "Por exemplo, empresas usam modelos preditivos para ajustar estoques ou planejar campanhas de marketing, baseando-se em tendências dos dados históricos\n",
    "\n",
    "### Exemplo Prático\n",
    "- Suponha um site de e-commerce que registra compras dos últimos anos. Com esses dados, aplica-se regressão linear para prever quantas vendas ocorrerão no próximo mês com base em fatores sazonais (como mês do ano) e variáveis de marketing. Outro exemplo: treinar uma árvore de decisão para prever se um cliente irá cancelar um serviço (churn) dado o histórico de uso.\n",
    "\n",
    "### Principais Ferramentas/Técnicas\n",
    "- Regressão linear e logística\n",
    "- Árvores de decisão e florestas aleatórias: random forest \n",
    "- Máquinas de vetor de suporte: SVM\n",
    "- Redes neurais\n",
    "- XGBoost\n",
    "- Python: destacam-se ```scikit-learn```, ```TensorFlow``` e ```Keras```\n",
    "- R: pacotes como ```caret``` e ```tidymodels```\n",
    "- Softwares como KNIME, RapidMiner ou plataformas de ciência de dados em nuvem também oferecem recursos preditivos."
   ]
  },
  {
   "cell_type": "markdown",
   "id": "413316b6",
   "metadata": {},
   "source": [
    "---"
   ]
  }
 ],
 "metadata": {
  "language_info": {
   "name": "python"
  }
 },
 "nbformat": 4,
 "nbformat_minor": 5
}

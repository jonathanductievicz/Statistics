{
 "cells": [
  {
   "cell_type": "markdown",
   "id": "2c2aa0d5",
   "metadata": {},
   "source": [
    "# Estatística Descritiva\n",
    "\n",
    "### Definição simples e clara\n",
    "- É o ramo da estatística que descreve e resume um conjunto de dados conhecidos. Envolve calcular como <u>média</u>, <u>mediana</u>, <u>moda</u>, <u>mínimo/máximo</u> e <u>desvio padrão</u>, além de apresentar distribuições em g´raficos (histogramas, tabelas de frequência, etc). Em outras palavras, procura **organizar e sintetizar** informações já observadas, sem inferir além dos dados disponíveis.\n",
    "\n",
    "### Aplicações práticas\n",
    "- Resumir desempenho (por exemplo, média de vendas diárias ou índice de satisfação de clientes), monitorar indicadores-chave (KPIs) de uma empresa, análise de pesquisas de opinião (contagens e percentuais de respostas), ou avaliar resultados escolares (média e variação de notas). Em geral, qualquer relatório ou dashboard que apresente estatísticas simples (médias, totais, gráficos) está usando análise descritiva.\n",
    "\n",
    "### Exemplo Prático\n",
    "- Um professor coleta as notas de matemática de 30 alunos. Ele calcula a média (por exemplo, 7.2), mediana (7.0) e desvio padrão (1.5) dessas notas, e constrói um histograma das frequências de cada nota. Esse resumo mostra rapidamente o desempenho geral da turma sem explicar *por que* as notas são assim\n",
    "\n",
    "### Principais ferramentas/técnicas:\n",
    "- Excel (tabelas dinâmicas, funções de estatística), **Python** (bibliotecas *pandas, numpy* - método ```describe()```, *matplotlib* para gráficos), **R** (pacote *tidyverse*, funções ```sumary()```, ```mean()```, ```sd()```), **SQL** (comandos ```COUNT```, ```AVG```, ```GROUP BY```), eferramentas de visualização (Tableau, Power BI) para criar gráficos e tabelas resumo."
   ]
  },
  {
   "cell_type": "markdown",
   "id": "16b6b94a",
   "metadata": {},
   "source": [
    "---\n",
    "### Exemplo Prático em Python"
   ]
  },
  {
   "cell_type": "markdown",
   "id": "a212243a",
   "metadata": {},
   "source": [
    "1) Estatística Resumidas com ```pandas.describe()```:\n",
    "\n",
    "Usamos o método ```describe()``` para obter, de forma rápida, medidas como média, mediana (50%), quartis, mínimo, máximo e desvio padrão de uma série numérica."
   ]
  },
  {
   "cell_type": "code",
   "execution_count": 1,
   "id": "643bc826",
   "metadata": {},
   "outputs": [
    {
     "name": "stdout",
     "output_type": "stream",
     "text": [
      "count    8.000000\n",
      "mean     7.437500\n",
      "std      1.015505\n",
      "min      6.000000\n",
      "25%      6.875000\n",
      "50%      7.250000\n",
      "75%      8.125000\n",
      "max      9.000000\n",
      "Name: notas, dtype: float64\n"
     ]
    }
   ],
   "source": [
    "import pandas as pd\n",
    "\n",
    "# Dados fictícios: notas de 8 alunos\n",
    "data = pd.DataFrame({'notas': [7, 8.5, 6.0, 9.0, 7.5, 8.0, 6.5, 7.0]})\n",
    "resumo = data['notas'].describe()\n",
    "print(resumo)"
   ]
  },
  {
   "cell_type": "markdown",
   "id": "2c41181d",
   "metadata": {},
   "source": [
    "**Interpretação**\n",
    " - Média (```mean```): 7.44\n",
    " - Mediana (```50%```): 7.25\n",
    " - Dispersão (desvio padrão): 1.04\n",
    " - Variação entre mínimo e máximo: 6.0 a 9.0\n",
    " ---\n"
   ]
  },
  {
   "cell_type": "markdown",
   "id": "ee361ab3",
   "metadata": {},
   "source": [
    "2) Tabela de Frequências com ```value_counts()```\n",
    "\n",
    "Para variáveis categóricas, ```value_counts()``` retorna quantas ocorrências cada categoria possui.\n"
   ]
  },
  {
   "cell_type": "code",
   "execution_count": 2,
   "id": "d87b0881",
   "metadata": {},
   "outputs": [
    {
     "name": "stdout",
     "output_type": "stream",
     "text": [
      "categoria\n",
      "A    4\n",
      "B    3\n",
      "C    3\n",
      "Name: count, dtype: int64\n"
     ]
    }
   ],
   "source": [
    "import pandas as pd\n",
    "\n",
    "# Dados fictícios: categorias de produtos vendidos\n",
    "data = pd.DataFrame({'categoria': ['A', 'B', 'A', 'C', 'B', 'A', 'C', 'B', 'A', 'C']})\n",
    "freq = data['categoria'].value_counts()\n",
    "print(freq)\n"
   ]
  },
  {
   "cell_type": "markdown",
   "id": "de8e7e57",
   "metadata": {},
   "source": [
    "**Interpretação:**\n",
    "- Categoria A apareceu 4 vezes\n",
    "- Categoria B e C apareceram 3 vezes\n",
    "---"
   ]
  },
  {
   "cell_type": "markdown",
   "id": "c3698c34",
   "metadata": {},
   "source": [
    "3) Histograma de Distribuição com ```matplotlib```\n",
    "\n",
    "Visualizar a distribuição ajuda a entender assimetrias, concentração e possíveis outliers."
   ]
  },
  {
   "cell_type": "code",
   "execution_count": 3,
   "id": "8f4bba04",
   "metadata": {},
   "outputs": [
    {
     "data": {
      "image/png": "[encoded data removed]",
      "text/plain": [
       "<Figure size 640x480 with 1 Axes>"
      ]
     },
     "metadata": {},
     "output_type": "display_data"
    }
   ],
   "source": [
    "import pandas as pd\n",
    "import matplotlib.pyplot as plt\n",
    "\n",
    "# Dados fictícios: salários de 10 funcionários\n",
    "data = pd.DataFrame({'salario': [2500, 3000, 2800, 3200, 2900, 3100, 2700, 3300, 3000, 2600]})\n",
    "plt.hist(data['salario'], bins=5)\n",
    "plt.title('Histograma de Salários')\n",
    "plt.xlabel('Salário (R$)')\n",
    "plt.ylabel('Frequência')\n",
    "plt.show()\n"
   ]
  },
  {
   "cell_type": "markdown",
   "id": "5a29f67c",
   "metadata": {},
   "source": [
    "**Interpretação:**\n",
    "- Mostra como os salários se distribuem em faixas (bins).\n",
    "- Permite identificar onde há maior concentração (por exemplo, salários entre R$ 2.900 e R$ 3.100) e possíveis valores extremos.\n",
    "---"
   ]
  }
 ],
 "metadata": {
  "kernelspec": {
   "display_name": ".venv",
   "language": "python",
   "name": "python3"
  },
  "language_info": {
   "codemirror_mode": {
    "name": "ipython",
    "version": 3
   },
   "file_extension": ".py",
   "mimetype": "text/x-python",
   "name": "python",
   "nbconvert_exporter": "python",
   "pygments_lexer": "ipython3",
   "version": "3.13.3"
  }
 },
 "nbformat": 4,
 "nbformat_minor": 5
}

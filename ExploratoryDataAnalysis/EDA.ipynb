{
 "cells": [
  {
   "cell_type": "markdown",
   "id": "ff2e974c",
   "metadata": {},
   "source": [
    "# Análise Exploratória de Dados (EDA)\n",
    "\n",
    "### Definição simples e clara\n",
    "- É uma abordagem inicial para entender um conjunto de dados, resumindo suas características principais e buscando padrões ou anomalias, geralmente através de visualizações​. Prioriza descobrir o que os dados contam antes de aplicar modelos formais. Em estatística, EDA envolve usar estatísticas descritivas e gráficos para “explorar” sem hipóteses prévias rígidas​.\n",
    "\n",
    "### Aplicações práticas\n",
    "- Todo projeto de ciência de dados:\n",
    "    - começa com EDA para avaliar qualidade dos dados (faltantes, outliers)\n",
    "    - observar correlações e tendências iniciais, e \n",
    "    - formular hipóteses. \n",
    "- Exemplos incluem: \n",
    "    -analisar estatísticas de vendas de diferentes regiões (com boxplots ou histogramas) \n",
    "    - inspecionar a relação entre tempo de uso de um app e gasto médio (com gráficos de dispersão), ou \n",
    "    - visualizar a distribuição de idades em uma base de clientes para decidir segmentação. \n",
    "EDA é usado em praticamente qualquer análise para guiar os próximos passos.\n",
    "\n",
    "### Exemplo prático\n",
    "- Um analista recebe dados de clientes (idade, renda, gastos mensais). Ele faz um histograma das idades para ver a faixa etária dominante, calcula a média de gastos por faixa de renda e plota um gráfico de dispersão entre renda e gastos. Essa exploração revela, por exemplo, que clientes mais velhos gastam menos, guiando depois análise mais aprofundada.\n",
    "\n",
    "### Principais ferramentas/técnicas\n",
    "- Bibliotecas de visualização e análise: \n",
    "    - Python: ```matplotlib```, ```seaborn```, ```pandas``` para estatísticas descritivas\n",
    "    - R: ```ggplot2```, ```dplyr```, ```tidyverse```\n",
    "- Notebooks interativos: \n",
    "    - Jupyter \n",
    "    - RMarkdown\n",
    "- Ferramentas de BI como Tableau e Power BI facilitam criar dashboards exploratórios. \n",
    "- Técnicas incluem histogramas, boxplots, gráficos de dispersão, análise de correlação, tabelas cruzadas e estatísticas básicas (média, quartis, contagens)."
   ]
  },
  {
   "cell_type": "markdown",
   "id": "caa35476",
   "metadata": {},
   "source": [
    "---"
   ]
  }
 ],
 "metadata": {
  "language_info": {
   "name": "python"
  }
 },
 "nbformat": 4,
 "nbformat_minor": 5
}

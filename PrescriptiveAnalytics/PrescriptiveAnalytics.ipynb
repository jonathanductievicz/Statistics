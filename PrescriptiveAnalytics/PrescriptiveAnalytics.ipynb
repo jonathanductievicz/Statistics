{
 "cells": [
  {
   "cell_type": "markdown",
   "id": "3253a50f",
   "metadata": {},
   "source": [
    "# Análise Prescritiva\n",
    "\n",
    "### Definição simples e clara\n",
    "- Vai além da previsão e busca responder **“o que deve ser feito”** para atingir melhores resultados. Ela utiliza resultados de análises preditivas e técnicas de otimização para sugerir ações ótimas, considerando restrições e recursos disponíveis​. Em outras palavras, analisa cenários futuros possíveis e recomenda decisões ou estratégias para alcançar objetivos desejados​.\n",
    "\n",
    "### Aplicações práticas\n",
    "- Otimização de cadeias de suprimento: decidir quantos produtos fabricar/estocar ante previsão de demanda\n",
    "- Precificação dinâmica: definir preços de passagens aéreas ou hotéis conforme demanda prevista\n",
    "- Escalonamento de pessoal: quantos funcionários escalar em cada turno\n",
    "- Roteirização de entregas: melhor rota para vários veículos\n",
    "- Planejamento financeiro: como alocar orçamento entre projetos\n",
    "- Em saúde: por exemplo, pode sugerir qual tratamento dar a um paciente com base em previsões de eficácia\n",
    "- Em marketing: recomenda quais ofertas personalizar.\n",
    "\n",
    "### Exemplo prático\n",
    "- Uma loja prevê que terá alta demanda por um produto no próximo mês (análise preditiva). A análise prescritiva entra para dizer quantas unidades pedir ao fornecedor e quando, de modo a minimizar custos de estoque e evitar faltas. \n",
    "- Outro exemplo: dada a previsão de tráfego de chamadas a um call center, determina-se quantos atendentes contratar em cada hora para manter qualidade.\n",
    "\n",
    "### Principais Ferramentas/Técnicas\n",
    "- Algoritmos de otimização: programação linear, programação inteira, programação dinâmica\n",
    "- Simulações de Monte Carlo\n",
    "- Heurísticas\n",
    "- Algoritmos genéticos.\n",
    "Exemplos de softwares e bibliotecas: ```Google OR-Tools```, ```PuLP``` ou ```Pyomo``` em **Python**, ```lpSolve``` em **R**, além de solvers comerciais como CPLEX e Gurobi. Ferramentas de simulação (Arena, Simul8) e técnicas de machine learning avançadas também podem ser usadas em prescrição.\n"
   ]
  },
  {
   "cell_type": "markdown",
   "id": "0748b70b",
   "metadata": {},
   "source": [
    "---"
   ]
  }
 ],
 "metadata": {
  "language_info": {
   "name": "python"
  }
 },
 "nbformat": 4,
 "nbformat_minor": 5
}
